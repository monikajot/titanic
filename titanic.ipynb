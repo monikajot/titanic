{
  "cells": [
    {
      "cell_type": "markdown",
      "metadata": {
        "id": "view-in-github",
        "colab_type": "text"
      },
      "source": [
        "<a href=\"https://colab.research.google.com/github/monikajot/titanic/blob/main/titanic.ipynb\" target=\"_parent\"><img src=\"https://colab.research.google.com/assets/colab-badge.svg\" alt=\"Open In Colab\"/></a>"
      ]
    },
    {
      "cell_type": "code",
      "execution_count": null,
      "metadata": {
        "colab": {
          "base_uri": "https://localhost:8080/"
        },
        "id": "WwvxD_g67Sar",
        "outputId": "53e4b2d5-aced-454d-cae7-aef880130472"
      },
      "outputs": [
        {
          "output_type": "stream",
          "name": "stdout",
          "text": [
            "Using cpu device\n"
          ]
        }
      ],
      "source": [
        "import pandas as pd\n",
        "import numpy as np\n",
        "import pickle\n",
        "from sklearn.model_selection import train_test_split\n",
        "from sklearn.preprocessing import MinMaxScaler\n",
        "import torch\n",
        "import torch.nn as nn\n",
        "import torch.optim as optim\n",
        "from sklearn.preprocessing import LabelEncoder\n",
        "import matplotlib.pyplot as plt\n",
        "from sklearn.model_selection import cross_val_predict\n",
        "from sklearn.metrics import confusion_matrix\n",
        "import seaborn as sns\n",
        "from sklearn.metrics import precision_score, accuracy_score\n",
        "from sklearn.model_selection import KFold\n",
        "\n",
        "device = \"cuda\" if torch.cuda.is_available() else \"cpu\"\n",
        "print(f\"Using {device} device\")"
      ]
    },
    {
      "cell_type": "code",
      "execution_count": null,
      "metadata": {
        "colab": {
          "base_uri": "https://localhost:8080/"
        },
        "id": "5_OYblu6BNtV",
        "outputId": "92e1772d-0068-4edd-ea6a-99bc4b892c42"
      },
      "outputs": [
        {
          "output_type": "stream",
          "name": "stdout",
          "text": [
            "Collecting wandb\n",
            "  Downloading wandb-0.12.16-py2.py3-none-any.whl (1.8 MB)\n",
            "\u001b[?25l\r\u001b[K     |▏                               | 10 kB 19.5 MB/s eta 0:00:01\r\u001b[K     |▍                               | 20 kB 25.6 MB/s eta 0:00:01\r\u001b[K     |▌                               | 30 kB 16.0 MB/s eta 0:00:01\r\u001b[K     |▊                               | 40 kB 6.9 MB/s eta 0:00:01\r\u001b[K     |█                               | 51 kB 6.3 MB/s eta 0:00:01\r\u001b[K     |█                               | 61 kB 7.3 MB/s eta 0:00:01\r\u001b[K     |█▎                              | 71 kB 8.0 MB/s eta 0:00:01\r\u001b[K     |█▌                              | 81 kB 7.6 MB/s eta 0:00:01\r\u001b[K     |█▋                              | 92 kB 8.4 MB/s eta 0:00:01\r\u001b[K     |█▉                              | 102 kB 7.7 MB/s eta 0:00:01\r\u001b[K     |██                              | 112 kB 7.7 MB/s eta 0:00:01\r\u001b[K     |██▏                             | 122 kB 7.7 MB/s eta 0:00:01\r\u001b[K     |██▍                             | 133 kB 7.7 MB/s eta 0:00:01\r\u001b[K     |██▋                             | 143 kB 7.7 MB/s eta 0:00:01\r\u001b[K     |██▊                             | 153 kB 7.7 MB/s eta 0:00:01\r\u001b[K     |███                             | 163 kB 7.7 MB/s eta 0:00:01\r\u001b[K     |███▏                            | 174 kB 7.7 MB/s eta 0:00:01\r\u001b[K     |███▎                            | 184 kB 7.7 MB/s eta 0:00:01\r\u001b[K     |███▌                            | 194 kB 7.7 MB/s eta 0:00:01\r\u001b[K     |███▋                            | 204 kB 7.7 MB/s eta 0:00:01\r\u001b[K     |███▉                            | 215 kB 7.7 MB/s eta 0:00:01\r\u001b[K     |████                            | 225 kB 7.7 MB/s eta 0:00:01\r\u001b[K     |████▏                           | 235 kB 7.7 MB/s eta 0:00:01\r\u001b[K     |████▍                           | 245 kB 7.7 MB/s eta 0:00:01\r\u001b[K     |████▋                           | 256 kB 7.7 MB/s eta 0:00:01\r\u001b[K     |████▊                           | 266 kB 7.7 MB/s eta 0:00:01\r\u001b[K     |█████                           | 276 kB 7.7 MB/s eta 0:00:01\r\u001b[K     |█████▏                          | 286 kB 7.7 MB/s eta 0:00:01\r\u001b[K     |█████▎                          | 296 kB 7.7 MB/s eta 0:00:01\r\u001b[K     |█████▌                          | 307 kB 7.7 MB/s eta 0:00:01\r\u001b[K     |█████▊                          | 317 kB 7.7 MB/s eta 0:00:01\r\u001b[K     |█████▉                          | 327 kB 7.7 MB/s eta 0:00:01\r\u001b[K     |██████                          | 337 kB 7.7 MB/s eta 0:00:01\r\u001b[K     |██████▎                         | 348 kB 7.7 MB/s eta 0:00:01\r\u001b[K     |██████▍                         | 358 kB 7.7 MB/s eta 0:00:01\r\u001b[K     |██████▋                         | 368 kB 7.7 MB/s eta 0:00:01\r\u001b[K     |██████▉                         | 378 kB 7.7 MB/s eta 0:00:01\r\u001b[K     |███████                         | 389 kB 7.7 MB/s eta 0:00:01\r\u001b[K     |███████▏                        | 399 kB 7.7 MB/s eta 0:00:01\r\u001b[K     |███████▎                        | 409 kB 7.7 MB/s eta 0:00:01\r\u001b[K     |███████▌                        | 419 kB 7.7 MB/s eta 0:00:01\r\u001b[K     |███████▊                        | 430 kB 7.7 MB/s eta 0:00:01\r\u001b[K     |███████▉                        | 440 kB 7.7 MB/s eta 0:00:01\r\u001b[K     |████████                        | 450 kB 7.7 MB/s eta 0:00:01\r\u001b[K     |████████▎                       | 460 kB 7.7 MB/s eta 0:00:01\r\u001b[K     |████████▍                       | 471 kB 7.7 MB/s eta 0:00:01\r\u001b[K     |████████▋                       | 481 kB 7.7 MB/s eta 0:00:01\r\u001b[K     |████████▉                       | 491 kB 7.7 MB/s eta 0:00:01\r\u001b[K     |█████████                       | 501 kB 7.7 MB/s eta 0:00:01\r\u001b[K     |█████████▏                      | 512 kB 7.7 MB/s eta 0:00:01\r\u001b[K     |█████████▍                      | 522 kB 7.7 MB/s eta 0:00:01\r\u001b[K     |█████████▌                      | 532 kB 7.7 MB/s eta 0:00:01\r\u001b[K     |█████████▊                      | 542 kB 7.7 MB/s eta 0:00:01\r\u001b[K     |██████████                      | 552 kB 7.7 MB/s eta 0:00:01\r\u001b[K     |██████████                      | 563 kB 7.7 MB/s eta 0:00:01\r\u001b[K     |██████████▎                     | 573 kB 7.7 MB/s eta 0:00:01\r\u001b[K     |██████████▌                     | 583 kB 7.7 MB/s eta 0:00:01\r\u001b[K     |██████████▋                     | 593 kB 7.7 MB/s eta 0:00:01\r\u001b[K     |██████████▉                     | 604 kB 7.7 MB/s eta 0:00:01\r\u001b[K     |███████████                     | 614 kB 7.7 MB/s eta 0:00:01\r\u001b[K     |███████████▏                    | 624 kB 7.7 MB/s eta 0:00:01\r\u001b[K     |███████████▍                    | 634 kB 7.7 MB/s eta 0:00:01\r\u001b[K     |███████████▌                    | 645 kB 7.7 MB/s eta 0:00:01\r\u001b[K     |███████████▊                    | 655 kB 7.7 MB/s eta 0:00:01\r\u001b[K     |████████████                    | 665 kB 7.7 MB/s eta 0:00:01\r\u001b[K     |████████████                    | 675 kB 7.7 MB/s eta 0:00:01\r\u001b[K     |████████████▎                   | 686 kB 7.7 MB/s eta 0:00:01\r\u001b[K     |████████████▌                   | 696 kB 7.7 MB/s eta 0:00:01\r\u001b[K     |████████████▋                   | 706 kB 7.7 MB/s eta 0:00:01\r\u001b[K     |████████████▉                   | 716 kB 7.7 MB/s eta 0:00:01\r\u001b[K     |█████████████                   | 727 kB 7.7 MB/s eta 0:00:01\r\u001b[K     |█████████████▏                  | 737 kB 7.7 MB/s eta 0:00:01\r\u001b[K     |█████████████▍                  | 747 kB 7.7 MB/s eta 0:00:01\r\u001b[K     |█████████████▋                  | 757 kB 7.7 MB/s eta 0:00:01\r\u001b[K     |█████████████▊                  | 768 kB 7.7 MB/s eta 0:00:01\r\u001b[K     |██████████████                  | 778 kB 7.7 MB/s eta 0:00:01\r\u001b[K     |██████████████▏                 | 788 kB 7.7 MB/s eta 0:00:01\r\u001b[K     |██████████████▎                 | 798 kB 7.7 MB/s eta 0:00:01\r\u001b[K     |██████████████▌                 | 808 kB 7.7 MB/s eta 0:00:01\r\u001b[K     |██████████████▋                 | 819 kB 7.7 MB/s eta 0:00:01\r\u001b[K     |██████████████▉                 | 829 kB 7.7 MB/s eta 0:00:01\r\u001b[K     |███████████████                 | 839 kB 7.7 MB/s eta 0:00:01\r\u001b[K     |███████████████▏                | 849 kB 7.7 MB/s eta 0:00:01\r\u001b[K     |███████████████▍                | 860 kB 7.7 MB/s eta 0:00:01\r\u001b[K     |███████████████▋                | 870 kB 7.7 MB/s eta 0:00:01\r\u001b[K     |███████████████▊                | 880 kB 7.7 MB/s eta 0:00:01\r\u001b[K     |████████████████                | 890 kB 7.7 MB/s eta 0:00:01\r\u001b[K     |████████████████▏               | 901 kB 7.7 MB/s eta 0:00:01\r\u001b[K     |████████████████▎               | 911 kB 7.7 MB/s eta 0:00:01\r\u001b[K     |████████████████▌               | 921 kB 7.7 MB/s eta 0:00:01\r\u001b[K     |████████████████▊               | 931 kB 7.7 MB/s eta 0:00:01\r\u001b[K     |████████████████▉               | 942 kB 7.7 MB/s eta 0:00:01\r\u001b[K     |█████████████████               | 952 kB 7.7 MB/s eta 0:00:01\r\u001b[K     |█████████████████▎              | 962 kB 7.7 MB/s eta 0:00:01\r\u001b[K     |█████████████████▍              | 972 kB 7.7 MB/s eta 0:00:01\r\u001b[K     |█████████████████▋              | 983 kB 7.7 MB/s eta 0:00:01\r\u001b[K     |█████████████████▉              | 993 kB 7.7 MB/s eta 0:00:01\r\u001b[K     |██████████████████              | 1.0 MB 7.7 MB/s eta 0:00:01\r\u001b[K     |██████████████████▏             | 1.0 MB 7.7 MB/s eta 0:00:01\r\u001b[K     |██████████████████▎             | 1.0 MB 7.7 MB/s eta 0:00:01\r\u001b[K     |██████████████████▌             | 1.0 MB 7.7 MB/s eta 0:00:01\r\u001b[K     |██████████████████▊             | 1.0 MB 7.7 MB/s eta 0:00:01\r\u001b[K     |██████████████████▉             | 1.1 MB 7.7 MB/s eta 0:00:01\r\u001b[K     |███████████████████             | 1.1 MB 7.7 MB/s eta 0:00:01\r\u001b[K     |███████████████████▎            | 1.1 MB 7.7 MB/s eta 0:00:01\r\u001b[K     |███████████████████▍            | 1.1 MB 7.7 MB/s eta 0:00:01\r\u001b[K     |███████████████████▋            | 1.1 MB 7.7 MB/s eta 0:00:01\r\u001b[K     |███████████████████▉            | 1.1 MB 7.7 MB/s eta 0:00:01\r\u001b[K     |████████████████████            | 1.1 MB 7.7 MB/s eta 0:00:01\r\u001b[K     |████████████████████▏           | 1.1 MB 7.7 MB/s eta 0:00:01\r\u001b[K     |████████████████████▍           | 1.1 MB 7.7 MB/s eta 0:00:01\r\u001b[K     |████████████████████▌           | 1.1 MB 7.7 MB/s eta 0:00:01\r\u001b[K     |████████████████████▊           | 1.2 MB 7.7 MB/s eta 0:00:01\r\u001b[K     |█████████████████████           | 1.2 MB 7.7 MB/s eta 0:00:01\r\u001b[K     |█████████████████████           | 1.2 MB 7.7 MB/s eta 0:00:01\r\u001b[K     |█████████████████████▎          | 1.2 MB 7.7 MB/s eta 0:00:01\r\u001b[K     |█████████████████████▌          | 1.2 MB 7.7 MB/s eta 0:00:01\r\u001b[K     |█████████████████████▋          | 1.2 MB 7.7 MB/s eta 0:00:01\r\u001b[K     |█████████████████████▉          | 1.2 MB 7.7 MB/s eta 0:00:01\r\u001b[K     |██████████████████████          | 1.2 MB 7.7 MB/s eta 0:00:01\r\u001b[K     |██████████████████████▏         | 1.2 MB 7.7 MB/s eta 0:00:01\r\u001b[K     |██████████████████████▍         | 1.2 MB 7.7 MB/s eta 0:00:01\r\u001b[K     |██████████████████████▌         | 1.3 MB 7.7 MB/s eta 0:00:01\r\u001b[K     |██████████████████████▊         | 1.3 MB 7.7 MB/s eta 0:00:01\r\u001b[K     |███████████████████████         | 1.3 MB 7.7 MB/s eta 0:00:01\r\u001b[K     |███████████████████████         | 1.3 MB 7.7 MB/s eta 0:00:01\r\u001b[K     |███████████████████████▎        | 1.3 MB 7.7 MB/s eta 0:00:01\r\u001b[K     |███████████████████████▌        | 1.3 MB 7.7 MB/s eta 0:00:01\r\u001b[K     |███████████████████████▋        | 1.3 MB 7.7 MB/s eta 0:00:01\r\u001b[K     |███████████████████████▉        | 1.3 MB 7.7 MB/s eta 0:00:01\r\u001b[K     |████████████████████████        | 1.3 MB 7.7 MB/s eta 0:00:01\r\u001b[K     |████████████████████████▏       | 1.4 MB 7.7 MB/s eta 0:00:01\r\u001b[K     |████████████████████████▍       | 1.4 MB 7.7 MB/s eta 0:00:01\r\u001b[K     |████████████████████████▋       | 1.4 MB 7.7 MB/s eta 0:00:01\r\u001b[K     |████████████████████████▊       | 1.4 MB 7.7 MB/s eta 0:00:01\r\u001b[K     |█████████████████████████       | 1.4 MB 7.7 MB/s eta 0:00:01\r\u001b[K     |█████████████████████████▏      | 1.4 MB 7.7 MB/s eta 0:00:01\r\u001b[K     |█████████████████████████▎      | 1.4 MB 7.7 MB/s eta 0:00:01\r\u001b[K     |█████████████████████████▌      | 1.4 MB 7.7 MB/s eta 0:00:01\r\u001b[K     |█████████████████████████▋      | 1.4 MB 7.7 MB/s eta 0:00:01\r\u001b[K     |█████████████████████████▉      | 1.4 MB 7.7 MB/s eta 0:00:01\r\u001b[K     |██████████████████████████      | 1.5 MB 7.7 MB/s eta 0:00:01\r\u001b[K     |██████████████████████████▏     | 1.5 MB 7.7 MB/s eta 0:00:01\r\u001b[K     |██████████████████████████▍     | 1.5 MB 7.7 MB/s eta 0:00:01\r\u001b[K     |██████████████████████████▋     | 1.5 MB 7.7 MB/s eta 0:00:01\r\u001b[K     |██████████████████████████▊     | 1.5 MB 7.7 MB/s eta 0:00:01\r\u001b[K     |███████████████████████████     | 1.5 MB 7.7 MB/s eta 0:00:01\r\u001b[K     |███████████████████████████▏    | 1.5 MB 7.7 MB/s eta 0:00:01\r\u001b[K     |███████████████████████████▎    | 1.5 MB 7.7 MB/s eta 0:00:01\r\u001b[K     |███████████████████████████▌    | 1.5 MB 7.7 MB/s eta 0:00:01\r\u001b[K     |███████████████████████████▊    | 1.5 MB 7.7 MB/s eta 0:00:01\r\u001b[K     |███████████████████████████▉    | 1.6 MB 7.7 MB/s eta 0:00:01\r\u001b[K     |████████████████████████████    | 1.6 MB 7.7 MB/s eta 0:00:01\r\u001b[K     |████████████████████████████▎   | 1.6 MB 7.7 MB/s eta 0:00:01\r\u001b[K     |████████████████████████████▍   | 1.6 MB 7.7 MB/s eta 0:00:01\r\u001b[K     |████████████████████████████▋   | 1.6 MB 7.7 MB/s eta 0:00:01\r\u001b[K     |████████████████████████████▉   | 1.6 MB 7.7 MB/s eta 0:00:01\r\u001b[K     |█████████████████████████████   | 1.6 MB 7.7 MB/s eta 0:00:01\r\u001b[K     |█████████████████████████████▏  | 1.6 MB 7.7 MB/s eta 0:00:01\r\u001b[K     |█████████████████████████████▎  | 1.6 MB 7.7 MB/s eta 0:00:01\r\u001b[K     |█████████████████████████████▌  | 1.6 MB 7.7 MB/s eta 0:00:01\r\u001b[K     |█████████████████████████████▊  | 1.7 MB 7.7 MB/s eta 0:00:01\r\u001b[K     |█████████████████████████████▉  | 1.7 MB 7.7 MB/s eta 0:00:01\r\u001b[K     |██████████████████████████████  | 1.7 MB 7.7 MB/s eta 0:00:01\r\u001b[K     |██████████████████████████████▎ | 1.7 MB 7.7 MB/s eta 0:00:01\r\u001b[K     |██████████████████████████████▍ | 1.7 MB 7.7 MB/s eta 0:00:01\r\u001b[K     |██████████████████████████████▋ | 1.7 MB 7.7 MB/s eta 0:00:01\r\u001b[K     |██████████████████████████████▉ | 1.7 MB 7.7 MB/s eta 0:00:01\r\u001b[K     |███████████████████████████████ | 1.7 MB 7.7 MB/s eta 0:00:01\r\u001b[K     |███████████████████████████████▏| 1.7 MB 7.7 MB/s eta 0:00:01\r\u001b[K     |███████████████████████████████▍| 1.8 MB 7.7 MB/s eta 0:00:01\r\u001b[K     |███████████████████████████████▌| 1.8 MB 7.7 MB/s eta 0:00:01\r\u001b[K     |███████████████████████████████▊| 1.8 MB 7.7 MB/s eta 0:00:01\r\u001b[K     |████████████████████████████████| 1.8 MB 7.7 MB/s eta 0:00:01\r\u001b[K     |████████████████████████████████| 1.8 MB 7.7 MB/s \n",
            "\u001b[?25hCollecting docker-pycreds>=0.4.0\n",
            "  Downloading docker_pycreds-0.4.0-py2.py3-none-any.whl (9.0 kB)\n",
            "Requirement already satisfied: python-dateutil>=2.6.1 in /usr/local/lib/python3.7/dist-packages (from wandb) (2.8.2)\n",
            "Requirement already satisfied: protobuf>=3.12.0 in /usr/local/lib/python3.7/dist-packages (from wandb) (3.17.3)\n",
            "Collecting GitPython>=1.0.0\n",
            "  Downloading GitPython-3.1.27-py3-none-any.whl (181 kB)\n",
            "\u001b[K     |████████████████████████████████| 181 kB 41.6 MB/s \n",
            "\u001b[?25hRequirement already satisfied: psutil>=5.0.0 in /usr/local/lib/python3.7/dist-packages (from wandb) (5.4.8)\n",
            "Collecting sentry-sdk>=1.0.0\n",
            "  Downloading sentry_sdk-1.5.12-py2.py3-none-any.whl (145 kB)\n",
            "\u001b[K     |████████████████████████████████| 145 kB 58.2 MB/s \n",
            "\u001b[?25hRequirement already satisfied: promise<3,>=2.0 in /usr/local/lib/python3.7/dist-packages (from wandb) (2.3)\n",
            "Requirement already satisfied: six>=1.13.0 in /usr/local/lib/python3.7/dist-packages (from wandb) (1.15.0)\n",
            "Requirement already satisfied: requests<3,>=2.0.0 in /usr/local/lib/python3.7/dist-packages (from wandb) (2.23.0)\n",
            "Requirement already satisfied: Click!=8.0.0,>=7.0 in /usr/local/lib/python3.7/dist-packages (from wandb) (7.1.2)\n",
            "Collecting shortuuid>=0.5.0\n",
            "  Downloading shortuuid-1.0.9-py3-none-any.whl (9.4 kB)\n",
            "Collecting pathtools\n",
            "  Downloading pathtools-0.1.2.tar.gz (11 kB)\n",
            "Collecting setproctitle\n",
            "  Downloading setproctitle-1.2.3-cp37-cp37m-manylinux_2_5_x86_64.manylinux1_x86_64.manylinux_2_17_x86_64.manylinux2014_x86_64.whl (29 kB)\n",
            "Requirement already satisfied: setuptools in /usr/local/lib/python3.7/dist-packages (from wandb) (57.4.0)\n",
            "Requirement already satisfied: PyYAML in /usr/local/lib/python3.7/dist-packages (from wandb) (3.13)\n",
            "Requirement already satisfied: typing-extensions>=3.7.4.3 in /usr/local/lib/python3.7/dist-packages (from GitPython>=1.0.0->wandb) (4.2.0)\n",
            "Collecting gitdb<5,>=4.0.1\n",
            "  Downloading gitdb-4.0.9-py3-none-any.whl (63 kB)\n",
            "\u001b[K     |████████████████████████████████| 63 kB 2.2 MB/s \n",
            "\u001b[?25hCollecting smmap<6,>=3.0.1\n",
            "  Downloading smmap-5.0.0-py3-none-any.whl (24 kB)\n",
            "Requirement already satisfied: urllib3!=1.25.0,!=1.25.1,<1.26,>=1.21.1 in /usr/local/lib/python3.7/dist-packages (from requests<3,>=2.0.0->wandb) (1.24.3)\n",
            "Requirement already satisfied: idna<3,>=2.5 in /usr/local/lib/python3.7/dist-packages (from requests<3,>=2.0.0->wandb) (2.10)\n",
            "Requirement already satisfied: chardet<4,>=3.0.2 in /usr/local/lib/python3.7/dist-packages (from requests<3,>=2.0.0->wandb) (3.0.4)\n",
            "Requirement already satisfied: certifi>=2017.4.17 in /usr/local/lib/python3.7/dist-packages (from requests<3,>=2.0.0->wandb) (2021.10.8)\n",
            "Building wheels for collected packages: pathtools\n",
            "  Building wheel for pathtools (setup.py) ... \u001b[?25l\u001b[?25hdone\n",
            "  Created wheel for pathtools: filename=pathtools-0.1.2-py3-none-any.whl size=8806 sha256=4f07c951254fc05a5418fde6bf470414561f9315d2fea6ed06e010f7dd9da81a\n",
            "  Stored in directory: /root/.cache/pip/wheels/3e/31/09/fa59cef12cdcfecc627b3d24273699f390e71828921b2cbba2\n",
            "Successfully built pathtools\n",
            "Installing collected packages: smmap, gitdb, shortuuid, setproctitle, sentry-sdk, pathtools, GitPython, docker-pycreds, wandb\n",
            "Successfully installed GitPython-3.1.27 docker-pycreds-0.4.0 gitdb-4.0.9 pathtools-0.1.2 sentry-sdk-1.5.12 setproctitle-1.2.3 shortuuid-1.0.9 smmap-5.0.0 wandb-0.12.16\n",
            "\u001b[34m\u001b[1mwandb\u001b[0m: You can find your API key in your browser here: https://wandb.ai/authorize\n",
            "\u001b[34m\u001b[1mwandb\u001b[0m: Paste an API key from your profile and hit enter, or press ctrl+c to quit: \n",
            "\u001b[34m\u001b[1mwandb\u001b[0m: Appending key for api.wandb.ai to your netrc file: /root/.netrc\n"
          ]
        }
      ],
      "source": [
        "! pip install wandb\n",
        "! wandb login"
      ]
    },
    {
      "cell_type": "code",
      "execution_count": null,
      "metadata": {
        "id": "KNLyf1Yi8bu5"
      },
      "outputs": [],
      "source": [
        "import wandb\n",
        "data = pd.read_csv('/content/drive/MyDrive/kaggle-titanic/train.csv')\n",
        "# survived 342, didn't 549\n",
        "test_data = pd.read_csv('/content/drive/MyDrive/kaggle-titanic/test.csv', index_col='PassengerId')\n",
        "# data['Fare'] is  revenue earned from transporting passengers on the public transit system,\n",
        "# including a cash fare, a donation received instead of a set fare, and an advance fare received from the sale of a coupon, token, or pass.\n",
        "# X_train = ('Pclass', 'Sex', 'Age', 'SibSp', 'Parch', 'Fare', 'Embarked')"
      ]
    },
    {
      "cell_type": "code",
      "execution_count": null,
      "metadata": {
        "id": "ug6iExyMD8Kd",
        "colab": {
          "base_uri": "https://localhost:8080/"
        },
        "outputId": "396eb4a0-8c94-4b67-f876-1b5f52bd5e90"
      },
      "outputs": [
        {
          "output_type": "execute_result",
          "data": {
            "text/plain": [
              "(             Pclass                                          Name     Sex  \\\n",
              " PassengerId                                                                 \n",
              " 892               3                              Kelly, Mr. James    male   \n",
              " 893               3              Wilkes, Mrs. James (Ellen Needs)  female   \n",
              " 894               2                     Myles, Mr. Thomas Francis    male   \n",
              " 895               3                              Wirz, Mr. Albert    male   \n",
              " 896               3  Hirvonen, Mrs. Alexander (Helga E Lindqvist)  female   \n",
              " \n",
              "               Age  SibSp  Parch   Ticket     Fare Cabin Embarked  \n",
              " PassengerId                                                       \n",
              " 892          34.5      0      0   330911   7.8292   NaN        Q  \n",
              " 893          47.0      1      0   363272   7.0000   NaN        S  \n",
              " 894          62.0      0      0   240276   9.6875   NaN        Q  \n",
              " 895          27.0      0      0   315154   8.6625   NaN        S  \n",
              " 896          22.0      1      1  3101298  12.2875   NaN        S  , 418)"
            ]
          },
          "metadata": {},
          "execution_count": 97
        }
      ],
      "source": [
        "test_data[:5], len(test_data)"
      ]
    },
    {
      "cell_type": "code",
      "source": [
        "test_data[test_data['Fare'].isnull()]"
      ],
      "metadata": {
        "colab": {
          "base_uri": "https://localhost:8080/",
          "height": 112
        },
        "id": "6Jj12belBZtZ",
        "outputId": "d9988987-94ec-487b-f7ce-11bcf87c8f74"
      },
      "execution_count": null,
      "outputs": [
        {
          "output_type": "execute_result",
          "data": {
            "text/plain": [
              "             Pclass                Name   Sex   Age  SibSp  Parch Ticket  \\\n",
              "PassengerId                                                                \n",
              "1044              3  Storey, Mr. Thomas  male  60.5      0      0   3701   \n",
              "\n",
              "             Fare Cabin Embarked  \n",
              "PassengerId                       \n",
              "1044          NaN   NaN        S  "
            ],
            "text/html": [
              "\n",
              "  <div id=\"df-1a307310-16b3-4180-a8f3-8b4138cdde8f\">\n",
              "    <div class=\"colab-df-container\">\n",
              "      <div>\n",
              "<style scoped>\n",
              "    .dataframe tbody tr th:only-of-type {\n",
              "        vertical-align: middle;\n",
              "    }\n",
              "\n",
              "    .dataframe tbody tr th {\n",
              "        vertical-align: top;\n",
              "    }\n",
              "\n",
              "    .dataframe thead th {\n",
              "        text-align: right;\n",
              "    }\n",
              "</style>\n",
              "<table border=\"1\" class=\"dataframe\">\n",
              "  <thead>\n",
              "    <tr style=\"text-align: right;\">\n",
              "      <th></th>\n",
              "      <th>Pclass</th>\n",
              "      <th>Name</th>\n",
              "      <th>Sex</th>\n",
              "      <th>Age</th>\n",
              "      <th>SibSp</th>\n",
              "      <th>Parch</th>\n",
              "      <th>Ticket</th>\n",
              "      <th>Fare</th>\n",
              "      <th>Cabin</th>\n",
              "      <th>Embarked</th>\n",
              "    </tr>\n",
              "    <tr>\n",
              "      <th>PassengerId</th>\n",
              "      <th></th>\n",
              "      <th></th>\n",
              "      <th></th>\n",
              "      <th></th>\n",
              "      <th></th>\n",
              "      <th></th>\n",
              "      <th></th>\n",
              "      <th></th>\n",
              "      <th></th>\n",
              "      <th></th>\n",
              "    </tr>\n",
              "  </thead>\n",
              "  <tbody>\n",
              "    <tr>\n",
              "      <th>1044</th>\n",
              "      <td>3</td>\n",
              "      <td>Storey, Mr. Thomas</td>\n",
              "      <td>male</td>\n",
              "      <td>60.5</td>\n",
              "      <td>0</td>\n",
              "      <td>0</td>\n",
              "      <td>3701</td>\n",
              "      <td>NaN</td>\n",
              "      <td>NaN</td>\n",
              "      <td>S</td>\n",
              "    </tr>\n",
              "  </tbody>\n",
              "</table>\n",
              "</div>\n",
              "      <button class=\"colab-df-convert\" onclick=\"convertToInteractive('df-1a307310-16b3-4180-a8f3-8b4138cdde8f')\"\n",
              "              title=\"Convert this dataframe to an interactive table.\"\n",
              "              style=\"display:none;\">\n",
              "        \n",
              "  <svg xmlns=\"http://www.w3.org/2000/svg\" height=\"24px\"viewBox=\"0 0 24 24\"\n",
              "       width=\"24px\">\n",
              "    <path d=\"M0 0h24v24H0V0z\" fill=\"none\"/>\n",
              "    <path d=\"M18.56 5.44l.94 2.06.94-2.06 2.06-.94-2.06-.94-.94-2.06-.94 2.06-2.06.94zm-11 1L8.5 8.5l.94-2.06 2.06-.94-2.06-.94L8.5 2.5l-.94 2.06-2.06.94zm10 10l.94 2.06.94-2.06 2.06-.94-2.06-.94-.94-2.06-.94 2.06-2.06.94z\"/><path d=\"M17.41 7.96l-1.37-1.37c-.4-.4-.92-.59-1.43-.59-.52 0-1.04.2-1.43.59L10.3 9.45l-7.72 7.72c-.78.78-.78 2.05 0 2.83L4 21.41c.39.39.9.59 1.41.59.51 0 1.02-.2 1.41-.59l7.78-7.78 2.81-2.81c.8-.78.8-2.07 0-2.86zM5.41 20L4 18.59l7.72-7.72 1.47 1.35L5.41 20z\"/>\n",
              "  </svg>\n",
              "      </button>\n",
              "      \n",
              "  <style>\n",
              "    .colab-df-container {\n",
              "      display:flex;\n",
              "      flex-wrap:wrap;\n",
              "      gap: 12px;\n",
              "    }\n",
              "\n",
              "    .colab-df-convert {\n",
              "      background-color: #E8F0FE;\n",
              "      border: none;\n",
              "      border-radius: 50%;\n",
              "      cursor: pointer;\n",
              "      display: none;\n",
              "      fill: #1967D2;\n",
              "      height: 32px;\n",
              "      padding: 0 0 0 0;\n",
              "      width: 32px;\n",
              "    }\n",
              "\n",
              "    .colab-df-convert:hover {\n",
              "      background-color: #E2EBFA;\n",
              "      box-shadow: 0px 1px 2px rgba(60, 64, 67, 0.3), 0px 1px 3px 1px rgba(60, 64, 67, 0.15);\n",
              "      fill: #174EA6;\n",
              "    }\n",
              "\n",
              "    [theme=dark] .colab-df-convert {\n",
              "      background-color: #3B4455;\n",
              "      fill: #D2E3FC;\n",
              "    }\n",
              "\n",
              "    [theme=dark] .colab-df-convert:hover {\n",
              "      background-color: #434B5C;\n",
              "      box-shadow: 0px 1px 3px 1px rgba(0, 0, 0, 0.15);\n",
              "      filter: drop-shadow(0px 1px 2px rgba(0, 0, 0, 0.3));\n",
              "      fill: #FFFFFF;\n",
              "    }\n",
              "  </style>\n",
              "\n",
              "      <script>\n",
              "        const buttonEl =\n",
              "          document.querySelector('#df-1a307310-16b3-4180-a8f3-8b4138cdde8f button.colab-df-convert');\n",
              "        buttonEl.style.display =\n",
              "          google.colab.kernel.accessAllowed ? 'block' : 'none';\n",
              "\n",
              "        async function convertToInteractive(key) {\n",
              "          const element = document.querySelector('#df-1a307310-16b3-4180-a8f3-8b4138cdde8f');\n",
              "          const dataTable =\n",
              "            await google.colab.kernel.invokeFunction('convertToInteractive',\n",
              "                                                     [key], {});\n",
              "          if (!dataTable) return;\n",
              "\n",
              "          const docLinkHtml = 'Like what you see? Visit the ' +\n",
              "            '<a target=\"_blank\" href=https://colab.research.google.com/notebooks/data_table.ipynb>data table notebook</a>'\n",
              "            + ' to learn more about interactive tables.';\n",
              "          element.innerHTML = '';\n",
              "          dataTable['output_type'] = 'display_data';\n",
              "          await google.colab.output.renderOutput(dataTable, element);\n",
              "          const docLink = document.createElement('div');\n",
              "          docLink.innerHTML = docLinkHtml;\n",
              "          element.appendChild(docLink);\n",
              "        }\n",
              "      </script>\n",
              "    </div>\n",
              "  </div>\n",
              "  "
            ]
          },
          "metadata": {},
          "execution_count": 99
        }
      ]
    },
    {
      "cell_type": "markdown",
      "metadata": {
        "id": "JxgO03Qgl7Qo"
      },
      "source": [
        "The columns we keep from the data are Pclass, Sex, Age, sibSp, Parch, Fare"
      ]
    },
    {
      "cell_type": "markdown",
      "metadata": {
        "id": "zbnO2ULVERSf"
      },
      "source": [
        "### baseline\n"
      ]
    },
    {
      "cell_type": "code",
      "execution_count": null,
      "metadata": {
        "colab": {
          "base_uri": "https://localhost:8080/",
          "height": 241
        },
        "id": "oQIVHEe2n-xP",
        "outputId": "f294ef6c-a8a6-49b6-c438-9cba6193e13b"
      },
      "outputs": [
        {
          "ename": "NameError",
          "evalue": "ignored",
          "output_type": "error",
          "traceback": [
            "\u001b[0;31m---------------------------------------------------------------------------\u001b[0m",
            "\u001b[0;31mNameError\u001b[0m                                 Traceback (most recent call last)",
            "\u001b[0;32m<ipython-input-5-41734fa9414f>\u001b[0m in \u001b[0;36m<module>\u001b[0;34m()\u001b[0m\n\u001b[1;32m      1\u001b[0m \u001b[0;31m# if class 1 - survived, if class 2,3 didnt survive\u001b[0m\u001b[0;34m\u001b[0m\u001b[0;34m\u001b[0m\u001b[0;34m\u001b[0m\u001b[0m\n\u001b[1;32m      2\u001b[0m \u001b[0mc\u001b[0m\u001b[0;34m=\u001b[0m \u001b[0;34m[\u001b[0m\u001b[0;34m]\u001b[0m\u001b[0;34m\u001b[0m\u001b[0;34m\u001b[0m\u001b[0m\n\u001b[0;32m----> 3\u001b[0;31m \u001b[0;32mfor\u001b[0m \u001b[0mi\u001b[0m \u001b[0;32min\u001b[0m \u001b[0mX_train\u001b[0m\u001b[0;34m[\u001b[0m\u001b[0;34m'Pclass'\u001b[0m\u001b[0;34m]\u001b[0m\u001b[0;34m:\u001b[0m\u001b[0;34m\u001b[0m\u001b[0;34m\u001b[0m\u001b[0m\n\u001b[0m\u001b[1;32m      4\u001b[0m     \u001b[0;32mif\u001b[0m \u001b[0mi\u001b[0m\u001b[0;34m==\u001b[0m\u001b[0;36m1\u001b[0m\u001b[0;34m:\u001b[0m\u001b[0;34m\u001b[0m\u001b[0;34m\u001b[0m\u001b[0m\n\u001b[1;32m      5\u001b[0m         \u001b[0mc\u001b[0m\u001b[0;34m.\u001b[0m\u001b[0mappend\u001b[0m\u001b[0;34m(\u001b[0m\u001b[0;36m1\u001b[0m\u001b[0;34m)\u001b[0m\u001b[0;34m\u001b[0m\u001b[0;34m\u001b[0m\u001b[0m\n",
            "\u001b[0;31mNameError\u001b[0m: name 'X_train' is not defined"
          ]
        }
      ],
      "source": [
        "# if class 1 - survived, if class 2,3 didnt survive\n",
        "c= []\n",
        "for i in X_train['Pclass']:\n",
        "    if i==1:\n",
        "        c.append(1)\n",
        "    else:\n",
        "        c.append(0)\n",
        "y_pred_b1 = pd.Series( c, dtype=int)\n",
        "\n",
        "\n",
        "# if class 1,2 - survived, if class 3, didnt survive\n",
        "c= []\n",
        "for i in X_train['Pclass']:\n",
        "    if i==1 or i==2:\n",
        "        c.append(1)\n",
        "    else:\n",
        "        c.append(0)\n",
        "y_pred_b2 = pd.Series( c, dtype=int)"
      ]
    },
    {
      "cell_type": "code",
      "execution_count": null,
      "metadata": {
        "id": "ID9cEPgoplTT"
      },
      "outputs": [],
      "source": [
        "#get accuracy\n",
        "from sklearn.metrics import mean_squared_error\n",
        "a1 =mean_squared_error(y_pred_b1, y_train)\n",
        "\n",
        "a2= mean_squared_error(y_pred_b2, y_train)\n",
        "a1, a2 #baseline accuracy is 33.5%"
      ]
    },
    {
      "cell_type": "markdown",
      "metadata": {
        "id": "EuLcjB889D0P"
      },
      "source": [
        "## preprocessing\n",
        "\n",
        "- dropped cabin\n",
        "- nan age is average (?) #TODO could improve by putting in smt else?"
      ]
    },
    {
      "cell_type": "code",
      "execution_count": null,
      "metadata": {
        "id": "BpcnZ5WCE9we"
      },
      "outputs": [],
      "source": [
        "class Preprocessor():\n",
        "    def __init__(self) -> None:\n",
        "        self.scaler = MinMaxScaler()\n",
        "        self.y_scaler = MinMaxScaler()\n",
        "        # X, _ = self._preprocess(x, training=True)\n",
        "\n",
        "    def _preprocess(self, x, y=None, training=False):\n",
        "            \"\"\"\n",
        "            Preprocess input of the network.\n",
        "            Arguments:\n",
        "                - x {pd.DataFrame} -- Raw input array of shape\n",
        "                    (batch_size, input_size).\n",
        "                - y {pd.DataFrame} -- Raw target array of shape (batch_size, 1).\n",
        "                - training {boolean} -- Boolean indicating if we are training or\n",
        "                    testing the model.\n",
        "            Returns:\n",
        "                - {torch.tensor} -- Preprocessed input array of size\n",
        "                    (batch_size, input_size).\n",
        "                - {torch.tensor} -- Preprocessed target array of size\n",
        "                    (batch_size, 1).\n",
        "            \"\"\"\n",
        "            # Return preprocessed x and y, return None for y if it was None\n",
        "            #turn male 1, female 0\n",
        "            # Binary encode\n",
        "\n",
        "            x.loc[x['Sex'] == 'male', 'Sex'] = 1\n",
        "            x.loc[x['Sex'] == 'female', 'Sex'] = 0\n",
        "\n",
        "            x.loc[x['Embarked'] == 'C', 'Embarked'] = 0\n",
        "            x.loc[x['Embarked'] == 'Q', 'Embarked'] = 1\n",
        "            x.loc[x['Embarked'] == 'S', 'Embarked'] = 2\n",
        "            mu = x.loc[:, 'Embarked'].mean(skipna=True)\n",
        "            x.loc[:, 'Embarked'].fillna(mu, inplace=True)\n",
        "\n",
        "            c = x['Age'].mean()\n",
        "            x['Age'].fillna(c, inplace=True)\n",
        "\n",
        "            x['Fare'].fillna(x['Fare'].mean(), inplace=True)\n",
        "            if not training:\n",
        "                self.test_idx = x.index\n",
        "                print(self.test_idx)\n",
        "\n",
        "            # iqr = x['Fare'].quantile(0.75) - x['Fare'].quantile(0.25)\n",
        "            # iqr2 = x['Fare'].quantile(1) -x['Fare'].quantile(0.75)\n",
        "            # upper_limit = x['Fare'].quantile(0.75) +1.5 * iqr\n",
        "            # lower_limit = x['Fare'].quantile(0.25) - 1.5 * iqr\n",
        "            # x['Fare'] = np.where(\n",
        "            #     x['Fare'] > upper_limit,\n",
        "            #     upper_limit-(iqr2/x['Fare']) ,\n",
        "            #     x['Fare']\n",
        "            #     )\n",
        "\n",
        "\n",
        "            # get min max scaling parameters from training data\n",
        "            if training:\n",
        "                self.scaler.fit(x)\n",
        "\n",
        "            # apply scaling to x\n",
        "            x = self.scaler.transform(x)\n",
        "            if training:\n",
        "                if y is not None:\n",
        "                    y = y.to_numpy().reshape(-1, 1)\n",
        "                    # find scale for labels in y\n",
        "                    if training:\n",
        "\n",
        "                        y=self.y_scaler.fit_transform(y)\n",
        "                    else:\n",
        "                        y=self.y_scaler.transform(y)\n",
        "\n",
        "                    y_tensor = torch.from_numpy(y).float()\n",
        "\n",
        "            x_tensor = torch.from_numpy(x).float()\n",
        "\n",
        "            return x_tensor, (y_tensor if y is not None else None)"
      ]
    },
    {
      "cell_type": "code",
      "execution_count": null,
      "metadata": {
        "id": "z1R9Bn-lk7Kw"
      },
      "outputs": [],
      "source": [
        "testing_flag =False\n",
        "if testing_flag:\n",
        "    x = data.loc[:,('Pclass', 'Sex', 'Age', 'SibSp', 'Parch', 'Fare', 'Embarked')]\n",
        "    y = data.loc[:,'Survived']\n",
        "    Preproc = Preprocessor(x)\n",
        "    X, y = Preproc._preprocess(x, y, training=True)\n",
        "    X.shape, y.shape"
      ]
    },
    {
      "cell_type": "code",
      "execution_count": null,
      "metadata": {
        "id": "X3MPV4IGT5ti"
      },
      "outputs": [],
      "source": [
        "\n",
        "# def fit( data, split=0.25, printout=True, config=None, embarked_flag=False):\n",
        "#         x = data.loc[:,('Pclass', 'Sex', 'Age', 'SibSp', 'Parch', 'Fare', 'Embarked')]\n",
        "#         if embarked_flag:\n",
        "#             x = data.loc[:,('Pclass', 'Sex', 'Age', 'SibSp', 'Parch', 'Fare')]\n",
        "#         y = data.loc[:,'Survived']\n",
        "#         Preproc = Preprocessor(x)\n",
        "#         X, y = Preproc._preprocess(x, y, training=True)\n",
        "#         # train and val\n",
        "#         X_train, X_val, y_train, y_val = train_test_split(X, y, test_size=split, random_state=42)\n",
        "#         return X_train, X_val, y_train, y_val\n",
        "# X_train, X_val, y_train, y_val = fit(data)\n"
      ]
    },
    {
      "cell_type": "markdown",
      "metadata": {
        "id": "eTj5v_Fz9HbL"
      },
      "source": [
        "### *linear* model"
      ]
    },
    {
      "cell_type": "code",
      "execution_count": null,
      "metadata": {
        "id": "o7e-YGiVVfNy"
      },
      "outputs": [],
      "source": [
        "# pd.set_option('display.max_rows', 500)"
      ]
    },
    {
      "cell_type": "code",
      "execution_count": null,
      "metadata": {
        "id": "-KWKIpnCE8xz"
      },
      "outputs": [],
      "source": [
        "class Simple_model(nn.Module):\n",
        "\n",
        "    def __init__(self,  hidden=100, dropout=0.5, batch_size=64):\n",
        "        super(Simple_model,self).__init__()\n",
        "        self.batch_size=batch_size\n",
        "        self.dropout = nn.Dropout(dropout)\n",
        "        self.model = nn.Sequential(\n",
        "            nn.Linear(7, hidden),\n",
        "            nn.Sigmoid(),\n",
        "            nn.Linear(hidden, hidden),\n",
        "            nn.Sigmoid(),\n",
        "            nn.Linear(hidden, hidden),\n",
        "            nn.Sigmoid(),\n",
        "            nn.Linear(hidden, batch_size),\n",
        "            nn.Sigmoid(),\n",
        "            nn.Dropout(dropout),\n",
        "            nn.Linear(batch_size, 1),\n",
        "            nn.Sigmoid()\n",
        "        )\n",
        "\n",
        "    def forward(self, x):\n",
        "        x = self.model(x)\n",
        "        return x\n",
        "\n",
        "\n",
        "class Classification():\n",
        "\n",
        "    def __init__(self, config=None):\n",
        "        print(config)\n",
        "        self.model = Simple_model( config.hidden, config.dropout, config.batch_size) #config.dropout,\n",
        "        self.loss = nn.MSELoss()\n",
        "        self.epochs = config.epochs\n",
        "        self.optimizer = optim.Adam(self.model.parameters(), lr=config.lr, amsgrad=True) #TODO: read about amsgrad\n",
        "        self.Prep = Preprocessor()\n",
        "        self.seed = config.seed\n",
        "\n",
        "\n",
        "    def init_data(self,data=data, train=True, embarked_flag=False):\n",
        "        x = data.loc[:,('Pclass', 'Sex', 'Age', 'SibSp', 'Parch', 'Fare', 'Embarked')]\n",
        "        if embarked_flag:\n",
        "            x = data.loc[:,('Pclass', 'Sex', 'Age', 'SibSp', 'Parch', 'Fare')]\n",
        "        if train:\n",
        "            y = data.loc[:,'Survived']\n",
        "            return x, y\n",
        "        return x\n",
        "\n",
        "    # model training\n",
        "    def fit(self, data,TEST_DATA=test_data, split=0.25, printout=True, config=None, embarked_flag=False):\n",
        "\n",
        "        x, y = self.init_data()\n",
        "        X, y = self.Prep._preprocess(x, y, training=True)\n",
        "        X_train = X\n",
        "        y_train = y\n",
        "        # X_train, X_val, y_train, y_val = train_test_split(X, y, test_size=split, random_state=42)\n",
        "        # kfold = KFold(n_splits = 5, shuffle = True, random_state = 1)\n",
        "        # folds = []\n",
        "        # for train_index, test_index in kfold.split(X):\n",
        "        # X_train, X_val = X[train_index], X[test_index]\n",
        "        # y_train, y_val = y[train_index], y[test_index]\n",
        "        loss_train_list = []\n",
        "        loss_val_list = []\n",
        "        min_loss = np.inf\n",
        "        batch_indices = np.arange(len(X_train))\n",
        "        np.random.seed(self.seed)\n",
        "        np.random.shuffle(batch_indices)\n",
        "        batch_indices = batch_indices[:-(len(X_train) % self.model.batch_size)].reshape(-1, self.model.batch_size)\n",
        "\n",
        "        for epoch in range(config.epochs):\n",
        "            running_loss = 0.0\n",
        "\n",
        "            self.model.train()\n",
        "            for ib, batch in enumerate(batch_indices):\n",
        "\n",
        "                # sample batch from X,Y to get train_x,train_y\n",
        "                # if someone could make this into a proper batch processing method, that'll be great\n",
        "                X_batch = X_train[batch].clone().detach().float()\n",
        "                y_batch = y_train[batch].clone().detach().float()\n",
        "\n",
        "                self.optimizer.zero_grad()  # Zero Grad\n",
        "                y_pred = self.model(X_batch)  # Forward through the model\n",
        "                loss = self.loss(y_pred, y_batch)  # Calculate loss\n",
        "                wandb.log({'batch_loss': loss})\n",
        "                loss.backward()  # Backprop\n",
        "                self.optimizer.step()  # step\n",
        "                if printout:\n",
        "                    running_loss += loss.item()\n",
        "            if printout:\n",
        "                train_loss = running_loss / batch_indices.shape[0]\n",
        "                loss_train_list.append(train_loss)\n",
        "                train_accuracy = self.get_accuracy(y_pred, y_batch).item()\n",
        "                wandb.log({'epoch': epoch, 'accuracy': train_accuracy, 'loss': train_loss})\n",
        "\n",
        "            # self.model.eval()\n",
        "            # y_pred_val = self.model(X_val)\n",
        "            # val_loss = self.loss(y_pred_val, y_val)\n",
        "            # val_accuracy = self.get_accuracy(y_pred_val, y_val).item()\n",
        "            # wandb.log({'epoch': epoch, 'val accuracy': val_accuracy, 'val loss': val_loss})\n",
        "            # folds.append(val_accuracy)\n",
        "            # loss_val_list.append(val_loss.item())\n",
        "\n",
        "        #plot graphs\n",
        "        # plt.show()\n",
        "        # plt.title('Training loss')\n",
        "        # plt.plot(np.arange(len(loss_train_list)), loss_train_list, label='train loss')\n",
        "        # plt.legend()\n",
        "        # plt.show()\n",
        "        # plt.title('Validation loss')\n",
        "        # plt.plot(np.arange(len(loss_val_list)), loss_val_list, label='val loss')\n",
        "        # plt.legend()\n",
        "        # plt.show()\n",
        "        # print('Final validation accuracy: ',self.get_accuracy(y_pred_val, y_val, X_val,confusion_flag=True).item())\n",
        "        # wandb.log({'fold': sum(folds)/len(folds)})\n",
        "        self.predict(TEST_DATA)\n",
        "        print('model predicted')\n",
        "\n",
        "        self.save_model()\n",
        "        print('model saved')\n",
        "\n",
        "\n",
        "    def get_accuracy(self,y_pred, y_batch, X_val=None, confusion_flag=False):\n",
        "        with torch.no_grad():\n",
        "            Y = y_pred.detach().numpy().copy()\n",
        "            Y[y_pred<0.5]=0\n",
        "            Y[y_pred>=0.5]=1\n",
        "            acc = accuracy_score(y_batch, Y)\n",
        "            if confusion_flag:\n",
        "                confm = confusion_matrix(y_batch.numpy(),Y)\n",
        "                df_cm = pd.DataFrame(confm)\n",
        "                ax = sns.heatmap(df_cm, cmap='Oranges', annot=True)\n",
        "            return acc\n",
        "\n",
        "    def eval_false(self,dfs, y_batch, Y,X_pred):\n",
        "        \"\"\"\n",
        "        Returns a df of predicted and true values with their model inputs\n",
        "        \"\"\"\n",
        "        dfs = pd.DataFrame(data = {'true':y_batch.squeeze(1).numpy(), 'pred': Y.squeeze(1)}, index = np.arange(len(y_batch)))\n",
        "        print(dfs)\n",
        "        i = 0\n",
        "        columns= ['idx', 'true', 'pred', 'Pclass',\"Sex\", 'Age', 'SibSp', 'Parch', 'Fare', 'Embarked']\n",
        "        info = []\n",
        "        for idx in range(len(dfs)):\n",
        "            if dfs.iloc[idx,0] != dfs.iloc[idx,1]:\n",
        "                x = (np.round( X_pred[idx,:]*100)/100).tolist()\n",
        "                info.append([idx, dfs.loc[idx,:].values[0],dfs.loc[idx,:].values[1]]+x)\n",
        "                i+=1\n",
        "        info_df = pd.DataFrame(info, columns=columns)\n",
        "        return info_df\n",
        "\n",
        "    def predict(self, x):\n",
        "        \"\"\"\n",
        "        Returns a prediction given input data\n",
        "        \"\"\"\n",
        "        x = self.init_data(test_data, train=False)\n",
        "        X, _ = self.Prep._preprocess(x, training=False)\n",
        "        print(X.shape, \"X \\n\", X)\n",
        "        pred = self.model(X.float()).detach().numpy()\n",
        "        print('predicted succs')\n",
        "        survived = self.Prep.y_scaler.inverse_transform(pred)\n",
        "        Y = survived.copy()\n",
        "        Y[survived<0.5]=0\n",
        "        Y[survived>=0.5]=1\n",
        "        # print(survived, type(survived))\n",
        "        print(type(survived), survived.shape, type(self.Prep.test_idx), self.Prep.test_idx.shape )\n",
        "        df = pd.DataFrame({ 'PassengerId':self.Prep.test_idx, 'Survived': Y.squeeze(1).astype(int)})\n",
        "        print(df)\n",
        "        df.to_csv('submission.csv')\n",
        "\n",
        "    def save_model(self):\n",
        "        torch.save(self.model.state_dict(), 'Titanic_model')\n",
        "\n",
        "\n",
        "    def load_model(self,f):\n",
        "        model = Simple_model(hidden=256)\n",
        "        model.eval()\n",
        "        model.load_state_dict(torch.load(f))\n",
        "        return model\n",
        "\n",
        ""
      ]
    },
    {
      "cell_type": "code",
      "execution_count": null,
      "metadata": {
        "colab": {
          "base_uri": "https://localhost:8080/"
        },
        "id": "Tp061ywO2N7f",
        "outputId": "5990524d-3514-42e3-80d0-f07bbef287ae"
      },
      "outputs": [
        {
          "output_type": "stream",
          "name": "stdout",
          "text": [
            "Create sweep with ID: 06x6gk4g\n",
            "Sweep URL: https://wandb.ai/monikajot/titanic-sweeps-3/sweeps/06x6gk4g\n"
          ]
        }
      ],
      "source": [
        "sweep_config = {\n",
        "    'method': 'random'\n",
        "    }\n",
        "metric = {\n",
        "    'name': 'loss',\n",
        "    'goal': 'minimize'\n",
        "    }\n",
        "\n",
        "sweep_config['metric'] = metric\n",
        "\n",
        "parameters_dict = {\n",
        "    'hidden': {\n",
        "        'values': [64]\n",
        "        },\n",
        "    'epochs': {\n",
        "        'value': 100},\n",
        "    'lr': {\n",
        "        # a flat distribution between 0 and 0.1\n",
        "        'distribution': 'uniform',\n",
        "        'min': 0.002,\n",
        "        'max': 0.0025\n",
        "        },\n",
        "    'dropout': {\n",
        "          'values': [0.2, 0.27,  0.3]\n",
        "        },\n",
        "    'batch_size': {\n",
        "        # integers between 32 and 256\n",
        "        # with evenly-distributed logarithms\n",
        "        # Quantized log uniform. Returns round(X / q) * q where X is log_uniform_values. q defaults to 1.\n",
        "        'distribution': 'q_log_uniform_values',\n",
        "        'q': 8,\n",
        "        'min': 32,\n",
        "        'max': 40,\n",
        "      },\n",
        "      'seed': {\n",
        "        'value' : 3# [1,2,3,4,15,23,65,11,111,123,987]\n",
        "      }\n",
        "    }\n",
        "\n",
        "sweep_config['parameters'] = parameters_dict\n",
        "sweep_id = wandb.sweep(sweep_config, project=\"titanic-sweeps-3\")\n",
        "# wandb.init(project=\"titanic\", entity=\"monikajot\")\n"
      ]
    },
    {
      "cell_type": "code",
      "execution_count": null,
      "metadata": {
        "id": "tS_NI4oHFYyD"
      },
      "outputs": [],
      "source": [
        "def train(config=None):\n",
        "    with wandb.init(config=config):\n",
        "        # If called by wandb.agent, as below,\n",
        "        # this config will be set by Sweep Controller\n",
        "        config = wandb.config\n",
        "        classify = Classification(config)\n",
        "        classify.fit(data,config=config)\n",
        "        print('##################################################### \\n #####################################################')"
      ]
    },
    {
      "cell_type": "code",
      "execution_count": null,
      "metadata": {
        "colab": {
          "base_uri": "https://localhost:8080/",
          "height": 1000,
          "referenced_widgets": [
            "d461355b1fa744c28fb915f64df2fcf7",
            "54030200942b4126b2c567f9e5139a86",
            "afc4b24d7c3449f697a3cf77d68f9c93",
            "4949cbcb1a144f3f94c0689920439425",
            "23c7109e7cbb4a07aa3fab32bdb570b1",
            "5a4990b3082f4e879863641a2d57dc18",
            "fa965299ef5047e891a348348abc009d",
            "01ae427112e2475cb2f2674947b8eb04"
          ]
        },
        "id": "qv3sDQ6dQ2Xv",
        "outputId": "7e0a23da-02fa-4280-c3c9-d5e91cdcb7fb"
      },
      "outputs": [
        {
          "output_type": "stream",
          "name": "stderr",
          "text": [
            "\u001b[34m\u001b[1mwandb\u001b[0m: Agent Starting Run: xegd8bnz with config:\n",
            "\u001b[34m\u001b[1mwandb\u001b[0m: \tbatch_size: 40\n",
            "\u001b[34m\u001b[1mwandb\u001b[0m: \tdropout: 0.27\n",
            "\u001b[34m\u001b[1mwandb\u001b[0m: \tepochs: 100\n",
            "\u001b[34m\u001b[1mwandb\u001b[0m: \thidden: 64\n",
            "\u001b[34m\u001b[1mwandb\u001b[0m: \tlr: 0.0023609049711815766\n",
            "\u001b[34m\u001b[1mwandb\u001b[0m: \tseed: 3\n"
          ]
        },
        {
          "output_type": "display_data",
          "data": {
            "text/plain": [
              "<IPython.core.display.HTML object>"
            ],
            "text/html": [
              "Tracking run with wandb version 0.12.16"
            ]
          },
          "metadata": {}
        },
        {
          "output_type": "display_data",
          "data": {
            "text/plain": [
              "<IPython.core.display.HTML object>"
            ],
            "text/html": [
              "W&B syncing is set to <code>`offline`<code> in this directory.  <br/>Run <code>`wandb online`<code> or set <code>WANDB_MODE=online<code> to enable cloud syncing."
            ]
          },
          "metadata": {}
        },
        {
          "output_type": "stream",
          "name": "stdout",
          "text": [
            "{'batch_size': 40, 'dropout': 0.27, 'epochs': 100, 'hidden': 64, 'lr': 0.0023609049711815766, 'seed': 3}\n",
            "Int64Index([ 892,  893,  894,  895,  896,  897,  898,  899,  900,  901,\n",
            "            ...\n",
            "            1300, 1301, 1302, 1303, 1304, 1305, 1306, 1307, 1308, 1309],\n",
            "           dtype='int64', name='PassengerId', length=418)\n",
            "torch.Size([418, 7]) X \n",
            " tensor([[1.0000, 1.0000, 0.4282,  ..., 0.0000, 0.0153, 0.5000],\n",
            "        [1.0000, 0.0000, 0.5853,  ..., 0.0000, 0.0137, 1.0000],\n",
            "        [0.5000, 1.0000, 0.7738,  ..., 0.0000, 0.0189, 0.5000],\n",
            "        ...,\n",
            "        [1.0000, 1.0000, 0.4785,  ..., 0.0000, 0.0142, 1.0000],\n",
            "        [1.0000, 1.0000, 0.3751,  ..., 0.0000, 0.0157, 1.0000],\n",
            "        [1.0000, 1.0000, 0.3751,  ..., 0.1667, 0.0436, 0.0000]])\n",
            "predicted succs\n",
            "<class 'numpy.ndarray'> (418, 1) <class 'pandas.core.indexes.numeric.Int64Index'> (418,)\n",
            "     PassengerId  Survived\n",
            "0            892         0\n",
            "1            893         0\n",
            "2            894         0\n",
            "3            895         0\n",
            "4            896         0\n",
            "..           ...       ...\n",
            "413         1305         0\n",
            "414         1306         1\n",
            "415         1307         0\n",
            "416         1308         0\n",
            "417         1309         0\n",
            "\n",
            "[418 rows x 2 columns]\n",
            "model predicted\n",
            "model saved\n",
            "##################################################### \n",
            " #####################################################\n"
          ]
        },
        {
          "output_type": "display_data",
          "data": {
            "text/plain": [
              "<IPython.core.display.HTML object>"
            ],
            "text/html": [
              "Waiting for W&B process to finish... <strong style=\"color:green\">(success).</strong>"
            ]
          },
          "metadata": {}
        },
        {
          "output_type": "display_data",
          "data": {
            "text/plain": [
              "VBox(children=(Label(value='0.000 MB of 0.000 MB uploaded (0.000 MB deduped)\\r'), FloatProgress(value=1.0, max…"
            ],
            "application/vnd.jupyter.widget-view+json": {
              "version_major": 2,
              "version_minor": 0,
              "model_id": "d461355b1fa744c28fb915f64df2fcf7"
            }
          },
          "metadata": {}
        },
        {
          "output_type": "display_data",
          "data": {
            "text/plain": [
              "<IPython.core.display.HTML object>"
            ],
            "text/html": [
              "<style>\n",
              "    table.wandb td:nth-child(1) { padding: 0 10px; text-align: left ; width: auto;} td:nth-child(2) {text-align: left ; width: 100%}\n",
              "    .wandb-row { display: flex; flex-direction: row; flex-wrap: wrap; justify-content: flex-start; width: 100% }\n",
              "    .wandb-col { display: flex; flex-direction: column; flex-basis: 100%; flex: 1; padding: 10px; }\n",
              "    </style>\n",
              "<div class=\"wandb-row\"><div class=\"wandb-col\"><h3>Run history:</h3><br/><table class=\"wandb\"><tr><td>accuracy</td><td>▁▁▄█▇███▇█▇█▇█▇▇▇▇▇█▇▇▇▇█▇▇▇▇▇▇▇▇▇▇▇▇▇▇▇</td></tr><tr><td>batch_loss</td><td>▇█▆▅▆▄▁▂▄▃▆▄▄▃▃▅▄▄▄▁▂▅▃▆▄▄▃▃▃▄▄▅▁▃▅▄▆▄▁▃</td></tr><tr><td>epoch</td><td>▁▁▁▁▂▂▂▂▂▃▃▃▃▃▃▄▄▄▄▄▅▅▅▅▅▅▆▆▆▆▆▇▇▇▇▇▇███</td></tr><tr><td>loss</td><td>██▆▂▂▂▁▁▁▁▁▁▁▁▁▁▁▁▁▁▁▁▁▁▁▁▁▁▁▁▁▁▁▁▁▁▁▁▁▁</td></tr></table><br/></div><div class=\"wandb-col\"><h3>Run summary:</h3><br/><table class=\"wandb\"><tr><td>accuracy</td><td>0.9</td></tr><tr><td>batch_loss</td><td>0.07699</td></tr><tr><td>epoch</td><td>99</td></tr><tr><td>loss</td><td>0.13742</td></tr></table><br/></div></div>"
            ]
          },
          "metadata": {}
        },
        {
          "output_type": "display_data",
          "data": {
            "text/plain": [
              "<IPython.core.display.HTML object>"
            ],
            "text/html": [
              "You can sync this run to the cloud by running:<br/><code>wandb sync /content/wandb/offline-run-20220516_225355-xegd8bnz<code>"
            ]
          },
          "metadata": {}
        },
        {
          "output_type": "display_data",
          "data": {
            "text/plain": [
              "<IPython.core.display.HTML object>"
            ],
            "text/html": [
              "Find logs at: <code>./wandb/offline-run-20220516_225355-xegd8bnz/logs</code>"
            ]
          },
          "metadata": {}
        }
      ],
      "source": [
        "import os\n",
        "os.environ['WANDB_MODE'] = 'offline'\n",
        "wandb.agent(sweep_id, train, count=1)\n",
        "# .87 {'batch_size': 32, 'dropout': 0.35, 'epochs': 70, 'hidden': 64, 'lr': 0.002432054780211515}\n",
        "# .87 {'batch_size': 40, 'dropout': 0.27, 'epochs': 70, 'hidden': 64, 'lr': 0.000432322433300812}\n",
        "# .9 {'batch_size': 32, 'dropout': 0.2, 'epochs': 100, 'hidden': 64, 'lr': 0.0022233305920332453, 'seed': 3}"
      ]
    },
    {
      "cell_type": "markdown",
      "source": [
        "# --- THE END ---"
      ],
      "metadata": {
        "id": "LdSFqAnaZKgx"
      }
    },
    {
      "cell_type": "code",
      "source": [
        "x = pd.read_csv('submission.csv')\n",
        "x"
      ],
      "metadata": {
        "colab": {
          "base_uri": "https://localhost:8080/",
          "height": 423
        },
        "id": "AozVciRkFGTS",
        "outputId": "21b909ec-afd5-4999-b55f-46eb7a87cf72"
      },
      "execution_count": null,
      "outputs": [
        {
          "output_type": "execute_result",
          "data": {
            "text/plain": [
              "     Unnamed: 0  PassengerId  Survived\n",
              "0             0          892         0\n",
              "1             1          893         0\n",
              "2             2          894         0\n",
              "3             3          895         0\n",
              "4             4          896         0\n",
              "..          ...          ...       ...\n",
              "413         413         1305         0\n",
              "414         414         1306         1\n",
              "415         415         1307         0\n",
              "416         416         1308         0\n",
              "417         417         1309         0\n",
              "\n",
              "[418 rows x 3 columns]"
            ],
            "text/html": [
              "\n",
              "  <div id=\"df-3d3b46b1-11ad-4300-831f-0bc1ce543b6c\">\n",
              "    <div class=\"colab-df-container\">\n",
              "      <div>\n",
              "<style scoped>\n",
              "    .dataframe tbody tr th:only-of-type {\n",
              "        vertical-align: middle;\n",
              "    }\n",
              "\n",
              "    .dataframe tbody tr th {\n",
              "        vertical-align: top;\n",
              "    }\n",
              "\n",
              "    .dataframe thead th {\n",
              "        text-align: right;\n",
              "    }\n",
              "</style>\n",
              "<table border=\"1\" class=\"dataframe\">\n",
              "  <thead>\n",
              "    <tr style=\"text-align: right;\">\n",
              "      <th></th>\n",
              "      <th>Unnamed: 0</th>\n",
              "      <th>PassengerId</th>\n",
              "      <th>Survived</th>\n",
              "    </tr>\n",
              "  </thead>\n",
              "  <tbody>\n",
              "    <tr>\n",
              "      <th>0</th>\n",
              "      <td>0</td>\n",
              "      <td>892</td>\n",
              "      <td>0</td>\n",
              "    </tr>\n",
              "    <tr>\n",
              "      <th>1</th>\n",
              "      <td>1</td>\n",
              "      <td>893</td>\n",
              "      <td>0</td>\n",
              "    </tr>\n",
              "    <tr>\n",
              "      <th>2</th>\n",
              "      <td>2</td>\n",
              "      <td>894</td>\n",
              "      <td>0</td>\n",
              "    </tr>\n",
              "    <tr>\n",
              "      <th>3</th>\n",
              "      <td>3</td>\n",
              "      <td>895</td>\n",
              "      <td>0</td>\n",
              "    </tr>\n",
              "    <tr>\n",
              "      <th>4</th>\n",
              "      <td>4</td>\n",
              "      <td>896</td>\n",
              "      <td>0</td>\n",
              "    </tr>\n",
              "    <tr>\n",
              "      <th>...</th>\n",
              "      <td>...</td>\n",
              "      <td>...</td>\n",
              "      <td>...</td>\n",
              "    </tr>\n",
              "    <tr>\n",
              "      <th>413</th>\n",
              "      <td>413</td>\n",
              "      <td>1305</td>\n",
              "      <td>0</td>\n",
              "    </tr>\n",
              "    <tr>\n",
              "      <th>414</th>\n",
              "      <td>414</td>\n",
              "      <td>1306</td>\n",
              "      <td>1</td>\n",
              "    </tr>\n",
              "    <tr>\n",
              "      <th>415</th>\n",
              "      <td>415</td>\n",
              "      <td>1307</td>\n",
              "      <td>0</td>\n",
              "    </tr>\n",
              "    <tr>\n",
              "      <th>416</th>\n",
              "      <td>416</td>\n",
              "      <td>1308</td>\n",
              "      <td>0</td>\n",
              "    </tr>\n",
              "    <tr>\n",
              "      <th>417</th>\n",
              "      <td>417</td>\n",
              "      <td>1309</td>\n",
              "      <td>0</td>\n",
              "    </tr>\n",
              "  </tbody>\n",
              "</table>\n",
              "<p>418 rows × 3 columns</p>\n",
              "</div>\n",
              "      <button class=\"colab-df-convert\" onclick=\"convertToInteractive('df-3d3b46b1-11ad-4300-831f-0bc1ce543b6c')\"\n",
              "              title=\"Convert this dataframe to an interactive table.\"\n",
              "              style=\"display:none;\">\n",
              "        \n",
              "  <svg xmlns=\"http://www.w3.org/2000/svg\" height=\"24px\"viewBox=\"0 0 24 24\"\n",
              "       width=\"24px\">\n",
              "    <path d=\"M0 0h24v24H0V0z\" fill=\"none\"/>\n",
              "    <path d=\"M18.56 5.44l.94 2.06.94-2.06 2.06-.94-2.06-.94-.94-2.06-.94 2.06-2.06.94zm-11 1L8.5 8.5l.94-2.06 2.06-.94-2.06-.94L8.5 2.5l-.94 2.06-2.06.94zm10 10l.94 2.06.94-2.06 2.06-.94-2.06-.94-.94-2.06-.94 2.06-2.06.94z\"/><path d=\"M17.41 7.96l-1.37-1.37c-.4-.4-.92-.59-1.43-.59-.52 0-1.04.2-1.43.59L10.3 9.45l-7.72 7.72c-.78.78-.78 2.05 0 2.83L4 21.41c.39.39.9.59 1.41.59.51 0 1.02-.2 1.41-.59l7.78-7.78 2.81-2.81c.8-.78.8-2.07 0-2.86zM5.41 20L4 18.59l7.72-7.72 1.47 1.35L5.41 20z\"/>\n",
              "  </svg>\n",
              "      </button>\n",
              "      \n",
              "  <style>\n",
              "    .colab-df-container {\n",
              "      display:flex;\n",
              "      flex-wrap:wrap;\n",
              "      gap: 12px;\n",
              "    }\n",
              "\n",
              "    .colab-df-convert {\n",
              "      background-color: #E8F0FE;\n",
              "      border: none;\n",
              "      border-radius: 50%;\n",
              "      cursor: pointer;\n",
              "      display: none;\n",
              "      fill: #1967D2;\n",
              "      height: 32px;\n",
              "      padding: 0 0 0 0;\n",
              "      width: 32px;\n",
              "    }\n",
              "\n",
              "    .colab-df-convert:hover {\n",
              "      background-color: #E2EBFA;\n",
              "      box-shadow: 0px 1px 2px rgba(60, 64, 67, 0.3), 0px 1px 3px 1px rgba(60, 64, 67, 0.15);\n",
              "      fill: #174EA6;\n",
              "    }\n",
              "\n",
              "    [theme=dark] .colab-df-convert {\n",
              "      background-color: #3B4455;\n",
              "      fill: #D2E3FC;\n",
              "    }\n",
              "\n",
              "    [theme=dark] .colab-df-convert:hover {\n",
              "      background-color: #434B5C;\n",
              "      box-shadow: 0px 1px 3px 1px rgba(0, 0, 0, 0.15);\n",
              "      filter: drop-shadow(0px 1px 2px rgba(0, 0, 0, 0.3));\n",
              "      fill: #FFFFFF;\n",
              "    }\n",
              "  </style>\n",
              "\n",
              "      <script>\n",
              "        const buttonEl =\n",
              "          document.querySelector('#df-3d3b46b1-11ad-4300-831f-0bc1ce543b6c button.colab-df-convert');\n",
              "        buttonEl.style.display =\n",
              "          google.colab.kernel.accessAllowed ? 'block' : 'none';\n",
              "\n",
              "        async function convertToInteractive(key) {\n",
              "          const element = document.querySelector('#df-3d3b46b1-11ad-4300-831f-0bc1ce543b6c');\n",
              "          const dataTable =\n",
              "            await google.colab.kernel.invokeFunction('convertToInteractive',\n",
              "                                                     [key], {});\n",
              "          if (!dataTable) return;\n",
              "\n",
              "          const docLinkHtml = 'Like what you see? Visit the ' +\n",
              "            '<a target=\"_blank\" href=https://colab.research.google.com/notebooks/data_table.ipynb>data table notebook</a>'\n",
              "            + ' to learn more about interactive tables.';\n",
              "          element.innerHTML = '';\n",
              "          dataTable['output_type'] = 'display_data';\n",
              "          await google.colab.output.renderOutput(dataTable, element);\n",
              "          const docLink = document.createElement('div');\n",
              "          docLink.innerHTML = docLinkHtml;\n",
              "          element.appendChild(docLink);\n",
              "        }\n",
              "      </script>\n",
              "    </div>\n",
              "  </div>\n",
              "  "
            ]
          },
          "metadata": {},
          "execution_count": 133
        }
      ]
    },
    {
      "cell_type": "code",
      "source": [
        "with open('X_val.obj', 'rb') as f:\n",
        "    X_val = pickle.load(f)\n",
        "\n",
        "with open('y_val.obj', 'rb') as f:\n",
        "    y_val = pickle.load(f)\n",
        "\n",
        "model = Simple_model(hidden=256)\n",
        "model.eval()\n",
        "\n",
        "model.load_state_dict(torch.load(\"/content/Titanic_model\"))\n",
        "y_pred_val = model(X_val)\n",
        "val_loss = torch.nn.MSELoss()\n",
        "loss = val_loss(y_pred_val, y_val)\n",
        "C = Classification()\n",
        "val_accuracy = C.get_accuracy(y_pred_val, y_val).item()\n",
        "loss, val_accuracy"
      ],
      "metadata": {
        "colab": {
          "base_uri": "https://localhost:8080/"
        },
        "id": "-N-AknkObQND",
        "outputId": "0fac03ff-e16d-4316-f20f-72f1254195fb"
      },
      "execution_count": null,
      "outputs": [
        {
          "output_type": "execute_result",
          "data": {
            "text/plain": [
              "(tensor(0.1398, grad_fn=<MseLossBackward0>), 0.8161434977578476)"
            ]
          },
          "metadata": {},
          "execution_count": 118
        }
      ]
    },
    {
      "cell_type": "code",
      "execution_count": null,
      "metadata": {
        "id": "OB5d41Mber2L"
      },
      "outputs": [],
      "source": [
        "from sklearn.model_selection import KFold\n",
        "\n",
        "kfold = KFold(n_splits = 3, shuffle = True, random_state = 1)\n",
        "\n",
        "# for train, test in kfold.split(X):\n",
        "#     print(train, test)\n",
        "#     print()\n",
        "\t# X_train, X_test = X[train_index], X[test_index]\n",
        "  \t# y_train, y_test = y[train_index], y[test_index]\n",
        "\n"
      ]
    },
    {
      "cell_type": "code",
      "source": [
        "columns= ['idx', 'true', 'pred', 'Pclass',\"Sex\", 'Age', 'SibSp', 'Parch', 'Fare', 'Embarked']\n",
        "info = []\n",
        "for idx in range(len(dfs)):\n",
        "    if dfs.iloc[idx,0] != dfs.iloc[idx,1]:\n",
        "        x = (np.round( X_pred[idx,:]*100)/100).tolist()\n",
        "        info.append([idx, dfs.loc[idx,:].values[0],dfs.loc[idx,:].values[1]]+x)\n",
        "        i+=1\n",
        "info_df = pd.DataFrame(info, columns=columns)\n"
      ],
      "metadata": {
        "id": "3-3aD6eF-Hse"
      },
      "execution_count": null,
      "outputs": []
    },
    {
      "cell_type": "code",
      "source": [],
      "metadata": {
        "id": "7205YSXGARfE"
      },
      "execution_count": null,
      "outputs": []
    }
  ],
  "metadata": {
    "colab": {
      "collapsed_sections": [
        "zbnO2ULVERSf"
      ],
      "provenance": [],
      "mount_file_id": "1mbceZGwnNJSH6wGYFFeCNEjbb4_tJtW5",
      "authorship_tag": "ABX9TyMdDkgDVNmj8gqvVXIv7FMN",
      "include_colab_link": true
    },
    "kernelspec": {
      "display_name": "Python 3",
      "name": "python3"
    },
    "language_info": {
      "name": "python"
    },
    "widgets": {
      "application/vnd.jupyter.widget-state+json": {
        "d461355b1fa744c28fb915f64df2fcf7": {
          "model_module": "@jupyter-widgets/controls",
          "model_name": "VBoxModel",
          "model_module_version": "1.5.0",
          "state": {
            "_dom_classes": [],
            "_model_module": "@jupyter-widgets/controls",
            "_model_module_version": "1.5.0",
            "_model_name": "VBoxModel",
            "_view_count": null,
            "_view_module": "@jupyter-widgets/controls",
            "_view_module_version": "1.5.0",
            "_view_name": "VBoxView",
            "box_style": "",
            "children": [
              "IPY_MODEL_54030200942b4126b2c567f9e5139a86",
              "IPY_MODEL_afc4b24d7c3449f697a3cf77d68f9c93"
            ],
            "layout": "IPY_MODEL_4949cbcb1a144f3f94c0689920439425"
          }
        },
        "54030200942b4126b2c567f9e5139a86": {
          "model_module": "@jupyter-widgets/controls",
          "model_name": "LabelModel",
          "model_module_version": "1.5.0",
          "state": {
            "_dom_classes": [],
            "_model_module": "@jupyter-widgets/controls",
            "_model_module_version": "1.5.0",
            "_model_name": "LabelModel",
            "_view_count": null,
            "_view_module": "@jupyter-widgets/controls",
            "_view_module_version": "1.5.0",
            "_view_name": "LabelView",
            "description": "",
            "description_tooltip": null,
            "layout": "IPY_MODEL_23c7109e7cbb4a07aa3fab32bdb570b1",
            "placeholder": "​",
            "style": "IPY_MODEL_5a4990b3082f4e879863641a2d57dc18",
            "value": "0.000 MB of 0.000 MB uploaded (0.000 MB deduped)\r"
          }
        },
        "afc4b24d7c3449f697a3cf77d68f9c93": {
          "model_module": "@jupyter-widgets/controls",
          "model_name": "FloatProgressModel",
          "model_module_version": "1.5.0",
          "state": {
            "_dom_classes": [],
            "_model_module": "@jupyter-widgets/controls",
            "_model_module_version": "1.5.0",
            "_model_name": "FloatProgressModel",
            "_view_count": null,
            "_view_module": "@jupyter-widgets/controls",
            "_view_module_version": "1.5.0",
            "_view_name": "ProgressView",
            "bar_style": "",
            "description": "",
            "description_tooltip": null,
            "layout": "IPY_MODEL_fa965299ef5047e891a348348abc009d",
            "max": 1,
            "min": 0,
            "orientation": "horizontal",
            "style": "IPY_MODEL_01ae427112e2475cb2f2674947b8eb04",
            "value": 1
          }
        },
        "4949cbcb1a144f3f94c0689920439425": {
          "model_module": "@jupyter-widgets/base",
          "model_name": "LayoutModel",
          "model_module_version": "1.2.0",
          "state": {
            "_model_module": "@jupyter-widgets/base",
            "_model_module_version": "1.2.0",
            "_model_name": "LayoutModel",
            "_view_count": null,
            "_view_module": "@jupyter-widgets/base",
            "_view_module_version": "1.2.0",
            "_view_name": "LayoutView",
            "align_content": null,
            "align_items": null,
            "align_self": null,
            "border": null,
            "bottom": null,
            "display": null,
            "flex": null,
            "flex_flow": null,
            "grid_area": null,
            "grid_auto_columns": null,
            "grid_auto_flow": null,
            "grid_auto_rows": null,
            "grid_column": null,
            "grid_gap": null,
            "grid_row": null,
            "grid_template_areas": null,
            "grid_template_columns": null,
            "grid_template_rows": null,
            "height": null,
            "justify_content": null,
            "justify_items": null,
            "left": null,
            "margin": null,
            "max_height": null,
            "max_width": null,
            "min_height": null,
            "min_width": null,
            "object_fit": null,
            "object_position": null,
            "order": null,
            "overflow": null,
            "overflow_x": null,
            "overflow_y": null,
            "padding": null,
            "right": null,
            "top": null,
            "visibility": null,
            "width": null
          }
        },
        "23c7109e7cbb4a07aa3fab32bdb570b1": {
          "model_module": "@jupyter-widgets/base",
          "model_name": "LayoutModel",
          "model_module_version": "1.2.0",
          "state": {
            "_model_module": "@jupyter-widgets/base",
            "_model_module_version": "1.2.0",
            "_model_name": "LayoutModel",
            "_view_count": null,
            "_view_module": "@jupyter-widgets/base",
            "_view_module_version": "1.2.0",
            "_view_name": "LayoutView",
            "align_content": null,
            "align_items": null,
            "align_self": null,
            "border": null,
            "bottom": null,
            "display": null,
            "flex": null,
            "flex_flow": null,
            "grid_area": null,
            "grid_auto_columns": null,
            "grid_auto_flow": null,
            "grid_auto_rows": null,
            "grid_column": null,
            "grid_gap": null,
            "grid_row": null,
            "grid_template_areas": null,
            "grid_template_columns": null,
            "grid_template_rows": null,
            "height": null,
            "justify_content": null,
            "justify_items": null,
            "left": null,
            "margin": null,
            "max_height": null,
            "max_width": null,
            "min_height": null,
            "min_width": null,
            "object_fit": null,
            "object_position": null,
            "order": null,
            "overflow": null,
            "overflow_x": null,
            "overflow_y": null,
            "padding": null,
            "right": null,
            "top": null,
            "visibility": null,
            "width": null
          }
        },
        "5a4990b3082f4e879863641a2d57dc18": {
          "model_module": "@jupyter-widgets/controls",
          "model_name": "DescriptionStyleModel",
          "model_module_version": "1.5.0",
          "state": {
            "_model_module": "@jupyter-widgets/controls",
            "_model_module_version": "1.5.0",
            "_model_name": "DescriptionStyleModel",
            "_view_count": null,
            "_view_module": "@jupyter-widgets/base",
            "_view_module_version": "1.2.0",
            "_view_name": "StyleView",
            "description_width": ""
          }
        },
        "fa965299ef5047e891a348348abc009d": {
          "model_module": "@jupyter-widgets/base",
          "model_name": "LayoutModel",
          "model_module_version": "1.2.0",
          "state": {
            "_model_module": "@jupyter-widgets/base",
            "_model_module_version": "1.2.0",
            "_model_name": "LayoutModel",
            "_view_count": null,
            "_view_module": "@jupyter-widgets/base",
            "_view_module_version": "1.2.0",
            "_view_name": "LayoutView",
            "align_content": null,
            "align_items": null,
            "align_self": null,
            "border": null,
            "bottom": null,
            "display": null,
            "flex": null,
            "flex_flow": null,
            "grid_area": null,
            "grid_auto_columns": null,
            "grid_auto_flow": null,
            "grid_auto_rows": null,
            "grid_column": null,
            "grid_gap": null,
            "grid_row": null,
            "grid_template_areas": null,
            "grid_template_columns": null,
            "grid_template_rows": null,
            "height": null,
            "justify_content": null,
            "justify_items": null,
            "left": null,
            "margin": null,
            "max_height": null,
            "max_width": null,
            "min_height": null,
            "min_width": null,
            "object_fit": null,
            "object_position": null,
            "order": null,
            "overflow": null,
            "overflow_x": null,
            "overflow_y": null,
            "padding": null,
            "right": null,
            "top": null,
            "visibility": null,
            "width": null
          }
        },
        "01ae427112e2475cb2f2674947b8eb04": {
          "model_module": "@jupyter-widgets/controls",
          "model_name": "ProgressStyleModel",
          "model_module_version": "1.5.0",
          "state": {
            "_model_module": "@jupyter-widgets/controls",
            "_model_module_version": "1.5.0",
            "_model_name": "ProgressStyleModel",
            "_view_count": null,
            "_view_module": "@jupyter-widgets/base",
            "_view_module_version": "1.2.0",
            "_view_name": "StyleView",
            "bar_color": null,
            "description_width": ""
          }
        }
      }
    }
  },
  "nbformat": 4,
  "nbformat_minor": 0
}